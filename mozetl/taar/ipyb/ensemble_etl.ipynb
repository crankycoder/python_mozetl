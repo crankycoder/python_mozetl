{
 "cells": [
  {
   "cell_type": "code",
   "execution_count": 10,
   "metadata": {},
   "outputs": [],
   "source": [
    "def get_samples(spark):\n",
    "    df = (spark.sql(\"SELECT * FROM clients_daily\")\\\n",
    "        .where(\"active_addons IS NOT null\")\\\n",
    "        .where(\"size(active_addons) > 2\")\\\n",
    "        .where(\"size(active_addons) < 100\")\\\n",
    "        .where(\"channel = 'release'\")\\\n",
    "        .where(\"app_name = 'Firefox'\")\\\n",
    "        .selectExpr(\\\n",
    "            \"client_id as client_id\",\\\n",
    "            \"active_addons as active_addons\",\\\n",
    "            \"city as city\",\\\n",
    "            \"subsession_hours_sum as subsession_hours_sum\",\\\n",
    "            \"locale as locale\",\\\n",
    "            \"os as os\",\\\n",
    "            \"places_bookmarks_count_mean AS bookmark_count\",\\\n",
    "            \"scalar_parent_browser_engagement_tab_open_event_count_sum AS tab_open_count\",\\\n",
    "            \"scalar_parent_browser_engagement_total_uri_count_sum AS total_uri\",\\\n",
    "            \"scalar_parent_browser_engagement_unique_domains_count_mean AS unique_tlds\"))\n",
    "    return df"
   ]
  },
  {
   "cell_type": "code",
   "execution_count": 11,
   "metadata": {
    "scrolled": true
   },
   "outputs": [],
   "source": [
    "def get_addons_per_client(users_df, addon_whitelist, minimum_addons_count):\n",
    "    \"\"\" Extracts a DataFrame that contains one row\n",
    "    for each client along with the list of active add-on GUIDs.\n",
    "    \"\"\"\n",
    "\n",
    "    def is_valid_addon(guid, addon):\n",
    "        return not (\n",
    "            addon.is_system\n",
    "            or addon.app_disabled\n",
    "            or addon.type != \"extension\"\n",
    "            or addon.user_disabled\n",
    "            or addon.foreign_install\n",
    "            or guid not in addon_whitelist\n",
    "        )\n",
    "\n",
    "    # Create an add-ons dataset un-nesting the add-on map from each\n",
    "    # user to a list of add-on GUIDs. Also filter undesired add-ons.\n",
    "\n",
    "    # Note that this list comprehension was restructured\n",
    "    # from the original longitudinal query.  In particular, note that\n",
    "    # each client's 'active_addons' entry is a list containing the\n",
    "    # a dictionary of {addon_guid: {addon_metadata_dict}}\n",
    "\n",
    "    def flatten_valid_guid_generator(p):\n",
    "        for data in p[\"active_addons\"]:\n",
    "            addon_guid = data[\"addon_id\"]\n",
    "            if not is_valid_addon(addon_guid, data):\n",
    "                continue\n",
    "            yield addon_guid\n",
    "\n",
    "    return (\n",
    "        users_df.rdd.map(\n",
    "            lambda p: (p[\"client_id\"], list(flatten_valid_guid_generator(p)))\n",
    "        )\n",
    "        .filter(lambda p: len(p[1]) > minimum_addons_count)\n",
    "        .toDF([\"client_id\", \"addon_ids\"])\n",
    "    )\n"
   ]
  },
  {
   "cell_type": "code",
   "execution_count": 16,
   "metadata": {},
   "outputs": [],
   "source": [
    "import boto3\n",
    "import json\n",
    "\n",
    "def read_from_s3(s3_dest_file_name, s3_prefix, bucket):\n",
    "    \"\"\"\n",
    "    Read JSON from an S3 bucket and return the decoded JSON blob\n",
    "    \"\"\"\n",
    "\n",
    "    full_s3_name = '{}{}'.format(s3_prefix, s3_dest_file_name)\n",
    "    conn = boto3.resource('s3', region_name='us-west-2')\n",
    "    stored_data = json.loads(\n",
    "        conn\n",
    "        .Object(bucket, full_s3_name)\n",
    "        .get()['Body']\n",
    "        .read()\n",
    "        .decode('utf-8')\n",
    "    )\n",
    "    return stored_data\n",
    "\n",
    "def load_amo_curated_whitelist():\n",
    "    \"\"\"\n",
    "    Return the curated whitelist of addon GUIDs\n",
    "    \"\"\"\n",
    "    whitelist = read_from_s3('only_guids_top_200.json',\n",
    "                             'telemetry-ml/addon_recommender/',\n",
    "                             'telemetry-parquet')\n",
    "    return list(whitelist)"
   ]
  },
  {
   "cell_type": "code",
   "execution_count": 17,
   "metadata": {},
   "outputs": [],
   "source": [
    "whitelist = load_amo_curated_whitelist()"
   ]
  },
  {
   "cell_type": "code",
   "execution_count": 19,
   "metadata": {},
   "outputs": [],
   "source": [
    "users_sample = get_samples(spark)"
   ]
  },
  {
   "cell_type": "code",
   "execution_count": 20,
   "metadata": {},
   "outputs": [],
   "source": [
    "addons_df = get_addons_per_client(users_sample, whitelist, 2)\n",
    "\n",
    "# Port of : future_contents_of_load_training_data.py done "
   ]
  },
  {
   "cell_type": "code",
   "execution_count": 21,
   "metadata": {},
   "outputs": [],
   "source": [
    "# TODO: port over the rest of \n",
    "# https://gist.github.com/mlopatka/da6b435d23424ea873615d0fd039a9c3#file-new_ensemble_example-py-L112\n",
    "#\n",
    "# and add in Amazon Athena query tools to join sqltelemetry to the dataframe"
   ]
  },
  {
   "cell_type": "code",
   "execution_count": null,
   "metadata": {},
   "outputs": [],
   "source": []
  }
 ],
 "metadata": {
  "anaconda-cloud": {},
  "kernelspec": {
   "display_name": "Python [default]",
   "language": "python",
   "name": "python2"
  },
  "language_info": {
   "codemirror_mode": {
    "name": "ipython",
    "version": 2
   },
   "file_extension": ".py",
   "mimetype": "text/x-python",
   "name": "python",
   "nbconvert_exporter": "python",
   "pygments_lexer": "ipython2",
   "version": "2.7.12"
  }
 },
 "nbformat": 4,
 "nbformat_minor": 2
}
